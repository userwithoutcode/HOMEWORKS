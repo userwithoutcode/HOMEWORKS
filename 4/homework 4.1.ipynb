{
 "cells": [
  {
   "cell_type": "markdown",
   "metadata": {},
   "source": [
    "## Homework 4.1"
   ]
  },
  {
   "cell_type": "code",
   "execution_count": null,
   "metadata": {
    "collapsed": true
   },
   "outputs": [],
   "source": [
    "import pandas as pd\n",
    "import numpy as np\n",
    "import matplotlib.pyplot as plt\n",
    "%matplotlib inline"
   ]
  },
  {
   "cell_type": "code",
   "execution_count": null,
   "metadata": {
    "collapsed": true
   },
   "outputs": [],
   "source": [
    "DATA_PATH = '/Users/iamantonozerov/MyFiles/PYTHON/HOMEWORKS/4.1/names/'"
   ]
  },
  {
   "cell_type": "code",
   "execution_count": 23,
   "metadata": {
    "scrolled": false
   },
   "outputs": [
    {
     "name": "stdout",
     "output_type": "stream",
     "text": [
      "['John', 'William', 'Mary']\n",
      "['James', 'John', 'Robert']\n"
     ]
    }
   ],
   "source": [
    "list1 = [1880]\n",
    "list2 = [1900, 1950, 2000]\n",
    "\n",
    "def count_top3(list):\n",
    "    names_table = []\n",
    "    for i in list:\n",
    "        i = pd.read_csv((DATA_PATH +'yob'+ str(i) +'.txt'), names=['Name','Gender','Count'])\n",
    "        names_table.append(i)\n",
    "    names_all = pd.concat(names_table)\n",
    "    m = names_all.groupby('Name').sum().sort_values(by='Count', ascending=False).head(3)\n",
    "    return print([nam for nam in m.index.get_level_values(0)])\n",
    "    \n",
    "count_top3(list1)\n",
    "count_top3(list2)"
   ]
  },
  {
   "cell_type": "code",
   "execution_count": 25,
   "metadata": {},
   "outputs": [
    {
     "data": {
      "text/plain": [
       "{'F': [299810, 1713259, 1814922], 'M': [150486, 1790871, 1962744]}"
      ]
     },
     "execution_count": 25,
     "metadata": {},
     "output_type": "execute_result"
    }
   ],
   "source": [
    "list1 = [1880]\n",
    "list2 = [1900, 1950, 2000]\n",
    "\n",
    "def count_dynamics(list):\n",
    "    count_dynamics_dict = {'M':[],'F':[]}\n",
    "    for i in list:\n",
    "        i = pd.read_csv((DATA_PATH +'yob'+ str(i) +'.txt'), names=['Name','Gender','Count'])\n",
    "        count_dynamics_dict['F'].append(i[i.Gender=='F'].Count.sum()) \n",
    "        count_dynamics_dict['M'].append(i[i.Gender=='M'].Count.sum())  \n",
    "    return  count_dynamics_dict\n",
    "\n",
    "count_dynamics(list2)"
   ]
  }
 ],
 "metadata": {
  "kernelspec": {
   "display_name": "Python 3",
   "language": "python",
   "name": "python3"
  },
  "language_info": {
   "codemirror_mode": {
    "name": "ipython",
    "version": 3
   },
   "file_extension": ".py",
   "mimetype": "text/x-python",
   "name": "python",
   "nbconvert_exporter": "python",
   "pygments_lexer": "ipython3",
   "version": "3.6.1"
  }
 },
 "nbformat": 4,
 "nbformat_minor": 2
}
